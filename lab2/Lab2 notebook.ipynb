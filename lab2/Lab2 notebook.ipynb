{
 "cells": [
  {
   "cell_type": "code",
   "execution_count": 2,
   "metadata": {},
   "outputs": [],
   "source": [
    "import numpy as np"
   ]
  },
  {
   "cell_type": "code",
   "execution_count": 4,
   "metadata": {},
   "outputs": [],
   "source": [
    "x = np.array([1, 2, 3])"
   ]
  },
  {
   "cell_type": "code",
   "execution_count": 5,
   "metadata": {},
   "outputs": [
    {
     "data": {
      "text/plain": [
       "array([1, 2, 3])"
      ]
     },
     "execution_count": 5,
     "metadata": {},
     "output_type": "execute_result"
    }
   ],
   "source": [
    "x"
   ]
  },
  {
   "cell_type": "code",
   "execution_count": 6,
   "metadata": {},
   "outputs": [],
   "source": [
    "y = np.arange(10)"
   ]
  },
  {
   "cell_type": "code",
   "execution_count": 10,
   "metadata": {},
   "outputs": [
    {
     "data": {
      "text/plain": [
       "array([0, 1, 2, 3, 4, 5, 6, 7, 8, 9])"
      ]
     },
     "execution_count": 10,
     "metadata": {},
     "output_type": "execute_result"
    }
   ],
   "source": [
    "y"
   ]
  },
  {
   "cell_type": "code",
   "execution_count": 11,
   "metadata": {},
   "outputs": [],
   "source": [
    "b = np.linspace(0, 2, 4)"
   ]
  },
  {
   "cell_type": "code",
   "execution_count": 12,
   "metadata": {},
   "outputs": [
    {
     "data": {
      "text/plain": [
       "array([0.        , 0.66666667, 1.33333333, 2.        ])"
      ]
     },
     "execution_count": 12,
     "metadata": {},
     "output_type": "execute_result"
    }
   ],
   "source": [
    "b"
   ]
  },
  {
   "cell_type": "code",
   "execution_count": 13,
   "metadata": {},
   "outputs": [],
   "source": [
    "a = np.linspace(-np.pi, np.pi, 100)"
   ]
  },
  {
   "cell_type": "code",
   "execution_count": 14,
   "metadata": {},
   "outputs": [
    {
     "data": {
      "text/plain": [
       "array([-3.14159265, -3.07812614, -3.01465962, -2.9511931 , -2.88772658,\n",
       "       -2.82426006, -2.76079354, -2.69732703, -2.63386051, -2.57039399,\n",
       "       -2.50692747, -2.44346095, -2.37999443, -2.31652792, -2.2530614 ,\n",
       "       -2.18959488, -2.12612836, -2.06266184, -1.99919533, -1.93572881,\n",
       "       -1.87226229, -1.80879577, -1.74532925, -1.68186273, -1.61839622,\n",
       "       -1.5549297 , -1.49146318, -1.42799666, -1.36453014, -1.30106362,\n",
       "       -1.23759711, -1.17413059, -1.11066407, -1.04719755, -0.98373103,\n",
       "       -0.92026451, -0.856798  , -0.79333148, -0.72986496, -0.66639844,\n",
       "       -0.60293192, -0.53946541, -0.47599889, -0.41253237, -0.34906585,\n",
       "       -0.28559933, -0.22213281, -0.1586663 , -0.09519978, -0.03173326,\n",
       "        0.03173326,  0.09519978,  0.1586663 ,  0.22213281,  0.28559933,\n",
       "        0.34906585,  0.41253237,  0.47599889,  0.53946541,  0.60293192,\n",
       "        0.66639844,  0.72986496,  0.79333148,  0.856798  ,  0.92026451,\n",
       "        0.98373103,  1.04719755,  1.11066407,  1.17413059,  1.23759711,\n",
       "        1.30106362,  1.36453014,  1.42799666,  1.49146318,  1.5549297 ,\n",
       "        1.61839622,  1.68186273,  1.74532925,  1.80879577,  1.87226229,\n",
       "        1.93572881,  1.99919533,  2.06266184,  2.12612836,  2.18959488,\n",
       "        2.2530614 ,  2.31652792,  2.37999443,  2.44346095,  2.50692747,\n",
       "        2.57039399,  2.63386051,  2.69732703,  2.76079354,  2.82426006,\n",
       "        2.88772658,  2.9511931 ,  3.01465962,  3.07812614,  3.14159265])"
      ]
     },
     "execution_count": 14,
     "metadata": {},
     "output_type": "execute_result"
    }
   ],
   "source": [
    "a"
   ]
  },
  {
   "cell_type": "code",
   "execution_count": 15,
   "metadata": {},
   "outputs": [],
   "source": [
    "b = np.sin(a)"
   ]
  },
  {
   "cell_type": "code",
   "execution_count": 16,
   "metadata": {},
   "outputs": [
    {
     "data": {
      "text/plain": [
       "array([-1.22464680e-16, -6.34239197e-02, -1.26592454e-01, -1.89251244e-01,\n",
       "       -2.51147987e-01, -3.12033446e-01, -3.71662456e-01, -4.29794912e-01,\n",
       "       -4.86196736e-01, -5.40640817e-01, -5.92907929e-01, -6.42787610e-01,\n",
       "       -6.90079011e-01, -7.34591709e-01, -7.76146464e-01, -8.14575952e-01,\n",
       "       -8.49725430e-01, -8.81453363e-01, -9.09631995e-01, -9.34147860e-01,\n",
       "       -9.54902241e-01, -9.71811568e-01, -9.84807753e-01, -9.93838464e-01,\n",
       "       -9.98867339e-01, -9.99874128e-01, -9.96854776e-01, -9.89821442e-01,\n",
       "       -9.78802446e-01, -9.63842159e-01, -9.45000819e-01, -9.22354294e-01,\n",
       "       -8.95993774e-01, -8.66025404e-01, -8.32569855e-01, -7.95761841e-01,\n",
       "       -7.55749574e-01, -7.12694171e-01, -6.66769001e-01, -6.18158986e-01,\n",
       "       -5.67059864e-01, -5.13677392e-01, -4.58226522e-01, -4.00930535e-01,\n",
       "       -3.42020143e-01, -2.81732557e-01, -2.20310533e-01, -1.58001396e-01,\n",
       "       -9.50560433e-02, -3.17279335e-02,  3.17279335e-02,  9.50560433e-02,\n",
       "        1.58001396e-01,  2.20310533e-01,  2.81732557e-01,  3.42020143e-01,\n",
       "        4.00930535e-01,  4.58226522e-01,  5.13677392e-01,  5.67059864e-01,\n",
       "        6.18158986e-01,  6.66769001e-01,  7.12694171e-01,  7.55749574e-01,\n",
       "        7.95761841e-01,  8.32569855e-01,  8.66025404e-01,  8.95993774e-01,\n",
       "        9.22354294e-01,  9.45000819e-01,  9.63842159e-01,  9.78802446e-01,\n",
       "        9.89821442e-01,  9.96854776e-01,  9.99874128e-01,  9.98867339e-01,\n",
       "        9.93838464e-01,  9.84807753e-01,  9.71811568e-01,  9.54902241e-01,\n",
       "        9.34147860e-01,  9.09631995e-01,  8.81453363e-01,  8.49725430e-01,\n",
       "        8.14575952e-01,  7.76146464e-01,  7.34591709e-01,  6.90079011e-01,\n",
       "        6.42787610e-01,  5.92907929e-01,  5.40640817e-01,  4.86196736e-01,\n",
       "        4.29794912e-01,  3.71662456e-01,  3.12033446e-01,  2.51147987e-01,\n",
       "        1.89251244e-01,  1.26592454e-01,  6.34239197e-02,  1.22464680e-16])"
      ]
     },
     "execution_count": 16,
     "metadata": {},
     "output_type": "execute_result"
    }
   ],
   "source": [
    "b"
   ]
  },
  {
   "cell_type": "code",
   "execution_count": 18,
   "metadata": {},
   "outputs": [],
   "source": [
    "c = np.cos(a)"
   ]
  },
  {
   "cell_type": "code",
   "execution_count": 19,
   "metadata": {},
   "outputs": [
    {
     "data": {
      "text/plain": [
       "array([-1.        , -0.99798668, -0.99195481, -0.9819287 , -0.9679487 ,\n",
       "       -0.95007112, -0.92836793, -0.90292654, -0.87384938, -0.84125353,\n",
       "       -0.80527026, -0.76604444, -0.72373404, -0.67850941, -0.63055267,\n",
       "       -0.58005691, -0.52722547, -0.47227107, -0.41541501, -0.35688622,\n",
       "       -0.29692038, -0.23575894, -0.17364818, -0.1108382 , -0.04758192,\n",
       "        0.01586596,  0.07924996,  0.14231484,  0.20480667,  0.26647381,\n",
       "        0.32706796,  0.38634513,  0.44406661,  0.5       ,  0.55392006,\n",
       "        0.60560969,  0.65486073,  0.70147489,  0.74526445,  0.78605309,\n",
       "        0.82367658,  0.85798341,  0.88883545,  0.91610846,  0.93969262,\n",
       "        0.95949297,  0.97542979,  0.98743889,  0.99547192,  0.99949654,\n",
       "        0.99949654,  0.99547192,  0.98743889,  0.97542979,  0.95949297,\n",
       "        0.93969262,  0.91610846,  0.88883545,  0.85798341,  0.82367658,\n",
       "        0.78605309,  0.74526445,  0.70147489,  0.65486073,  0.60560969,\n",
       "        0.55392006,  0.5       ,  0.44406661,  0.38634513,  0.32706796,\n",
       "        0.26647381,  0.20480667,  0.14231484,  0.07924996,  0.01586596,\n",
       "       -0.04758192, -0.1108382 , -0.17364818, -0.23575894, -0.29692038,\n",
       "       -0.35688622, -0.41541501, -0.47227107, -0.52722547, -0.58005691,\n",
       "       -0.63055267, -0.67850941, -0.72373404, -0.76604444, -0.80527026,\n",
       "       -0.84125353, -0.87384938, -0.90292654, -0.92836793, -0.95007112,\n",
       "       -0.9679487 , -0.9819287 , -0.99195481, -0.99798668, -1.        ])"
      ]
     },
     "execution_count": 19,
     "metadata": {},
     "output_type": "execute_result"
    }
   ],
   "source": [
    "c"
   ]
  },
  {
   "cell_type": "code",
   "execution_count": 20,
   "metadata": {},
   "outputs": [],
   "source": [
    "from numpy.random import rand"
   ]
  },
  {
   "cell_type": "code",
   "execution_count": 21,
   "metadata": {},
   "outputs": [],
   "source": [
    "from numpy.linalg import solve, inv\n"
   ]
  },
  {
   "cell_type": "code",
   "execution_count": 22,
   "metadata": {},
   "outputs": [],
   "source": [
    "a = np.array([[1, 2, 3], [3, 4, 6.7], [5, 9.0, 5]])"
   ]
  },
  {
   "cell_type": "code",
   "execution_count": 23,
   "metadata": {},
   "outputs": [
    {
     "data": {
      "text/plain": [
       "array([[1. , 2. , 3. ],\n",
       "       [3. , 4. , 6.7],\n",
       "       [5. , 9. , 5. ]])"
      ]
     },
     "execution_count": 23,
     "metadata": {},
     "output_type": "execute_result"
    }
   ],
   "source": [
    "a"
   ]
  },
  {
   "cell_type": "code",
   "execution_count": 24,
   "metadata": {},
   "outputs": [
    {
     "data": {
      "text/plain": [
       "array([[1. , 3. , 5. ],\n",
       "       [2. , 4. , 9. ],\n",
       "       [3. , 6.7, 5. ]])"
      ]
     },
     "execution_count": 24,
     "metadata": {},
     "output_type": "execute_result"
    }
   ],
   "source": [
    "a.transpose()"
   ]
  },
  {
   "cell_type": "code",
   "execution_count": 25,
   "metadata": {},
   "outputs": [
    {
     "ename": "AttributeError",
     "evalue": "'function' object has no attribute 'a'",
     "output_type": "error",
     "traceback": [
      "\u001b[0;31m---------------------------------------------------------------------------\u001b[0m",
      "\u001b[0;31mAttributeError\u001b[0m                            Traceback (most recent call last)",
      "\u001b[0;32m<ipython-input-25-54aaed5fb419>\u001b[0m in \u001b[0;36m<module>\u001b[0;34m\u001b[0m\n\u001b[0;32m----> 1\u001b[0;31m \u001b[0minv\u001b[0m\u001b[0;34m.\u001b[0m\u001b[0ma\u001b[0m\u001b[0;34m(\u001b[0m\u001b[0;34m)\u001b[0m\u001b[0;34m\u001b[0m\u001b[0;34m\u001b[0m\u001b[0m\n\u001b[0m",
      "\u001b[0;31mAttributeError\u001b[0m: 'function' object has no attribute 'a'"
     ]
    }
   ],
   "source": [
    "inv.a()"
   ]
  },
  {
   "cell_type": "code",
   "execution_count": 26,
   "metadata": {},
   "outputs": [
    {
     "ename": "AttributeError",
     "evalue": "'numpy.ndarray' object has no attribute 'inv'",
     "output_type": "error",
     "traceback": [
      "\u001b[0;31m---------------------------------------------------------------------------\u001b[0m",
      "\u001b[0;31mAttributeError\u001b[0m                            Traceback (most recent call last)",
      "\u001b[0;32m<ipython-input-26-06ff20e6ac75>\u001b[0m in \u001b[0;36m<module>\u001b[0;34m\u001b[0m\n\u001b[0;32m----> 1\u001b[0;31m \u001b[0ma\u001b[0m\u001b[0;34m.\u001b[0m\u001b[0minv\u001b[0m\u001b[0;34m(\u001b[0m\u001b[0;34m)\u001b[0m\u001b[0;34m\u001b[0m\u001b[0;34m\u001b[0m\u001b[0m\n\u001b[0m",
      "\u001b[0;31mAttributeError\u001b[0m: 'numpy.ndarray' object has no attribute 'inv'"
     ]
    }
   ],
   "source": [
    "a.inv()"
   ]
  },
  {
   "cell_type": "code",
   "execution_count": 27,
   "metadata": {},
   "outputs": [
    {
     "data": {
      "text/plain": [
       "array([[-2.27683616,  0.96045198,  0.07909605],\n",
       "       [ 1.04519774, -0.56497175,  0.1299435 ],\n",
       "       [ 0.39548023,  0.05649718, -0.11299435]])"
      ]
     },
     "execution_count": 27,
     "metadata": {},
     "output_type": "execute_result"
    }
   ],
   "source": [
    "inv(a)"
   ]
  },
  {
   "cell_type": "code",
   "execution_count": 28,
   "metadata": {},
   "outputs": [],
   "source": [
    "b = np.array([3, 2, 1])"
   ]
  },
  {
   "cell_type": "code",
   "execution_count": 29,
   "metadata": {},
   "outputs": [
    {
     "data": {
      "text/plain": [
       "array([3, 2, 1])"
      ]
     },
     "execution_count": 29,
     "metadata": {},
     "output_type": "execute_result"
    }
   ],
   "source": [
    "b"
   ]
  },
  {
   "cell_type": "code",
   "execution_count": 30,
   "metadata": {},
   "outputs": [
    {
     "data": {
      "text/plain": [
       "array([-4.83050847,  2.13559322,  1.18644068])"
      ]
     },
     "execution_count": 30,
     "metadata": {},
     "output_type": "execute_result"
    }
   ],
   "source": [
    "solve(a,b)"
   ]
  },
  {
   "cell_type": "code",
   "execution_count": 31,
   "metadata": {},
   "outputs": [],
   "source": [
    "c = rand(3, 3)"
   ]
  },
  {
   "cell_type": "code",
   "execution_count": null,
   "metadata": {},
   "outputs": [],
   "source": [
    "\n"
   ]
  },
  {
   "cell_type": "code",
   "execution_count": 32,
   "metadata": {},
   "outputs": [
    {
     "data": {
      "text/plain": [
       "array([[0.48665906, 0.06353305, 0.68625929],\n",
       "       [0.76955775, 0.71796278, 0.14564649],\n",
       "       [0.03639389, 0.38649026, 0.4091186 ]])"
      ]
     },
     "execution_count": 32,
     "metadata": {},
     "output_type": "execute_result"
    }
   ],
   "source": [
    "c"
   ]
  },
  {
   "cell_type": "code",
   "execution_count": 33,
   "metadata": {},
   "outputs": [
    {
     "data": {
      "text/plain": [
       "array([[0.48665906, 0.06353305, 0.68625929],\n",
       "       [0.76955775, 0.71796278, 0.14564649],\n",
       "       [0.03639389, 0.38649026, 0.4091186 ]])"
      ]
     },
     "execution_count": 33,
     "metadata": {},
     "output_type": "execute_result"
    }
   ],
   "source": [
    "c"
   ]
  },
  {
   "cell_type": "code",
   "execution_count": 34,
   "metadata": {},
   "outputs": [
    {
     "data": {
      "text/plain": [
       "array([[2.13495622, 2.65892938, 2.20490809],\n",
       "       [4.78204722, 5.651935  , 5.38245849],\n",
       "       [9.54128446, 8.71178155, 6.78770791]])"
      ]
     },
     "execution_count": 34,
     "metadata": {},
     "output_type": "execute_result"
    }
   ],
   "source": [
    "np.dot(a, c)"
   ]
  },
  {
   "cell_type": "code",
   "execution_count": 35,
   "metadata": {},
   "outputs": [
    {
     "data": {
      "text/plain": [
       "array([[2.13495622, 2.65892938, 2.20490809],\n",
       "       [4.78204722, 5.651935  , 5.38245849],\n",
       "       [9.54128446, 8.71178155, 6.78770791]])"
      ]
     },
     "execution_count": 35,
     "metadata": {},
     "output_type": "execute_result"
    }
   ],
   "source": [
    "a @ c"
   ]
  },
  {
   "cell_type": "code",
   "execution_count": 36,
   "metadata": {},
   "outputs": [],
   "source": [
    "import numpy as np"
   ]
  },
  {
   "cell_type": "code",
   "execution_count": 37,
   "metadata": {},
   "outputs": [],
   "source": [
    "import pandas as pd"
   ]
  },
  {
   "cell_type": "code",
   "execution_count": 38,
   "metadata": {},
   "outputs": [],
   "source": [
    "df = pd.read_csv('AAPL_yah.csv')"
   ]
  },
  {
   "cell_type": "code",
   "execution_count": 39,
   "metadata": {},
   "outputs": [
    {
     "data": {
      "text/html": [
       "<div>\n",
       "<style scoped>\n",
       "    .dataframe tbody tr th:only-of-type {\n",
       "        vertical-align: middle;\n",
       "    }\n",
       "\n",
       "    .dataframe tbody tr th {\n",
       "        vertical-align: top;\n",
       "    }\n",
       "\n",
       "    .dataframe thead th {\n",
       "        text-align: right;\n",
       "    }\n",
       "</style>\n",
       "<table border=\"1\" class=\"dataframe\">\n",
       "  <thead>\n",
       "    <tr style=\"text-align: right;\">\n",
       "      <th></th>\n",
       "      <th>Date</th>\n",
       "      <th>Open</th>\n",
       "      <th>High</th>\n",
       "      <th>Low</th>\n",
       "      <th>Close</th>\n",
       "      <th>Adj Close</th>\n",
       "      <th>Volume</th>\n",
       "    </tr>\n",
       "  </thead>\n",
       "  <tbody>\n",
       "    <tr>\n",
       "      <th>0</th>\n",
       "      <td>1999-12-13</td>\n",
       "      <td>3.656808</td>\n",
       "      <td>3.660714</td>\n",
       "      <td>3.533482</td>\n",
       "      <td>3.535714</td>\n",
       "      <td>3.085665</td>\n",
       "      <td>132490400</td>\n",
       "    </tr>\n",
       "    <tr>\n",
       "      <th>1</th>\n",
       "      <td>1999-12-14</td>\n",
       "      <td>3.513393</td>\n",
       "      <td>3.562500</td>\n",
       "      <td>3.383929</td>\n",
       "      <td>3.388393</td>\n",
       "      <td>2.957095</td>\n",
       "      <td>108967600</td>\n",
       "    </tr>\n",
       "    <tr>\n",
       "      <th>2</th>\n",
       "      <td>1999-12-15</td>\n",
       "      <td>3.330357</td>\n",
       "      <td>3.473214</td>\n",
       "      <td>3.252232</td>\n",
       "      <td>3.464286</td>\n",
       "      <td>3.023328</td>\n",
       "      <td>155744400</td>\n",
       "    </tr>\n",
       "    <tr>\n",
       "      <th>3</th>\n",
       "      <td>1999-12-16</td>\n",
       "      <td>3.500000</td>\n",
       "      <td>3.513393</td>\n",
       "      <td>3.357143</td>\n",
       "      <td>3.511161</td>\n",
       "      <td>3.064236</td>\n",
       "      <td>115956400</td>\n",
       "    </tr>\n",
       "    <tr>\n",
       "      <th>4</th>\n",
       "      <td>1999-12-17</td>\n",
       "      <td>3.602679</td>\n",
       "      <td>3.642857</td>\n",
       "      <td>3.517857</td>\n",
       "      <td>3.571429</td>\n",
       "      <td>3.116833</td>\n",
       "      <td>123751600</td>\n",
       "    </tr>\n",
       "    <tr>\n",
       "      <th>...</th>\n",
       "      <td>...</td>\n",
       "      <td>...</td>\n",
       "      <td>...</td>\n",
       "      <td>...</td>\n",
       "      <td>...</td>\n",
       "      <td>...</td>\n",
       "      <td>...</td>\n",
       "    </tr>\n",
       "    <tr>\n",
       "      <th>4975</th>\n",
       "      <td>2019-09-23</td>\n",
       "      <td>218.949997</td>\n",
       "      <td>219.839996</td>\n",
       "      <td>217.649994</td>\n",
       "      <td>218.720001</td>\n",
       "      <td>218.720001</td>\n",
       "      <td>19165500</td>\n",
       "    </tr>\n",
       "    <tr>\n",
       "      <th>4976</th>\n",
       "      <td>2019-09-24</td>\n",
       "      <td>221.029999</td>\n",
       "      <td>222.490005</td>\n",
       "      <td>217.190002</td>\n",
       "      <td>217.679993</td>\n",
       "      <td>217.679993</td>\n",
       "      <td>31190800</td>\n",
       "    </tr>\n",
       "    <tr>\n",
       "      <th>4977</th>\n",
       "      <td>2019-09-25</td>\n",
       "      <td>218.550003</td>\n",
       "      <td>221.500000</td>\n",
       "      <td>217.139999</td>\n",
       "      <td>221.029999</td>\n",
       "      <td>221.029999</td>\n",
       "      <td>21903400</td>\n",
       "    </tr>\n",
       "    <tr>\n",
       "      <th>4978</th>\n",
       "      <td>2019-09-26</td>\n",
       "      <td>220.000000</td>\n",
       "      <td>220.940002</td>\n",
       "      <td>218.830002</td>\n",
       "      <td>219.889999</td>\n",
       "      <td>219.889999</td>\n",
       "      <td>18833500</td>\n",
       "    </tr>\n",
       "    <tr>\n",
       "      <th>4979</th>\n",
       "      <td>2019-09-27</td>\n",
       "      <td>220.539993</td>\n",
       "      <td>220.960007</td>\n",
       "      <td>217.279999</td>\n",
       "      <td>218.820007</td>\n",
       "      <td>218.820007</td>\n",
       "      <td>25352000</td>\n",
       "    </tr>\n",
       "  </tbody>\n",
       "</table>\n",
       "<p>4980 rows × 7 columns</p>\n",
       "</div>"
      ],
      "text/plain": [
       "            Date        Open        High         Low       Close   Adj Close  \\\n",
       "0     1999-12-13    3.656808    3.660714    3.533482    3.535714    3.085665   \n",
       "1     1999-12-14    3.513393    3.562500    3.383929    3.388393    2.957095   \n",
       "2     1999-12-15    3.330357    3.473214    3.252232    3.464286    3.023328   \n",
       "3     1999-12-16    3.500000    3.513393    3.357143    3.511161    3.064236   \n",
       "4     1999-12-17    3.602679    3.642857    3.517857    3.571429    3.116833   \n",
       "...          ...         ...         ...         ...         ...         ...   \n",
       "4975  2019-09-23  218.949997  219.839996  217.649994  218.720001  218.720001   \n",
       "4976  2019-09-24  221.029999  222.490005  217.190002  217.679993  217.679993   \n",
       "4977  2019-09-25  218.550003  221.500000  217.139999  221.029999  221.029999   \n",
       "4978  2019-09-26  220.000000  220.940002  218.830002  219.889999  219.889999   \n",
       "4979  2019-09-27  220.539993  220.960007  217.279999  218.820007  218.820007   \n",
       "\n",
       "         Volume  \n",
       "0     132490400  \n",
       "1     108967600  \n",
       "2     155744400  \n",
       "3     115956400  \n",
       "4     123751600  \n",
       "...         ...  \n",
       "4975   19165500  \n",
       "4976   31190800  \n",
       "4977   21903400  \n",
       "4978   18833500  \n",
       "4979   25352000  \n",
       "\n",
       "[4980 rows x 7 columns]"
      ]
     },
     "execution_count": 39,
     "metadata": {},
     "output_type": "execute_result"
    }
   ],
   "source": [
    "df"
   ]
  },
  {
   "cell_type": "code",
   "execution_count": 41,
   "metadata": {},
   "outputs": [],
   "source": [
    "fd1 = df.sort_values(by=['Close'])"
   ]
  },
  {
   "cell_type": "code",
   "execution_count": 42,
   "metadata": {},
   "outputs": [
    {
     "ename": "NameError",
     "evalue": "name 'df1' is not defined",
     "output_type": "error",
     "traceback": [
      "\u001b[0;31m---------------------------------------------------------------------------\u001b[0m",
      "\u001b[0;31mNameError\u001b[0m                                 Traceback (most recent call last)",
      "\u001b[0;32m<ipython-input-42-6a861a8b3f1a>\u001b[0m in \u001b[0;36m<module>\u001b[0;34m\u001b[0m\n\u001b[0;32m----> 1\u001b[0;31m \u001b[0mdf1\u001b[0m\u001b[0;34m\u001b[0m\u001b[0;34m\u001b[0m\u001b[0m\n\u001b[0m",
      "\u001b[0;31mNameError\u001b[0m: name 'df1' is not defined"
     ]
    }
   ],
   "source": [
    "df1"
   ]
  },
  {
   "cell_type": "code",
   "execution_count": 43,
   "metadata": {},
   "outputs": [
    {
     "data": {
      "text/html": [
       "<div>\n",
       "<style scoped>\n",
       "    .dataframe tbody tr th:only-of-type {\n",
       "        vertical-align: middle;\n",
       "    }\n",
       "\n",
       "    .dataframe tbody tr th {\n",
       "        vertical-align: top;\n",
       "    }\n",
       "\n",
       "    .dataframe thead th {\n",
       "        text-align: right;\n",
       "    }\n",
       "</style>\n",
       "<table border=\"1\" class=\"dataframe\">\n",
       "  <thead>\n",
       "    <tr style=\"text-align: right;\">\n",
       "      <th></th>\n",
       "      <th>Date</th>\n",
       "      <th>Open</th>\n",
       "      <th>High</th>\n",
       "      <th>Low</th>\n",
       "      <th>Close</th>\n",
       "      <th>Adj Close</th>\n",
       "      <th>Volume</th>\n",
       "    </tr>\n",
       "  </thead>\n",
       "  <tbody>\n",
       "    <tr>\n",
       "      <th>839</th>\n",
       "      <td>2003-04-17</td>\n",
       "      <td>0.942857</td>\n",
       "      <td>0.946429</td>\n",
       "      <td>0.908571</td>\n",
       "      <td>0.937143</td>\n",
       "      <td>0.817857</td>\n",
       "      <td>154064400</td>\n",
       "    </tr>\n",
       "    <tr>\n",
       "      <th>840</th>\n",
       "      <td>2003-04-21</td>\n",
       "      <td>0.937857</td>\n",
       "      <td>0.942143</td>\n",
       "      <td>0.927143</td>\n",
       "      <td>0.938571</td>\n",
       "      <td>0.819104</td>\n",
       "      <td>38080000</td>\n",
       "    </tr>\n",
       "    <tr>\n",
       "      <th>835</th>\n",
       "      <td>2003-04-11</td>\n",
       "      <td>1.003571</td>\n",
       "      <td>1.031429</td>\n",
       "      <td>0.923571</td>\n",
       "      <td>0.942857</td>\n",
       "      <td>0.822844</td>\n",
       "      <td>348177200</td>\n",
       "    </tr>\n",
       "    <tr>\n",
       "      <th>838</th>\n",
       "      <td>2003-04-16</td>\n",
       "      <td>0.927857</td>\n",
       "      <td>0.976429</td>\n",
       "      <td>0.922857</td>\n",
       "      <td>0.945714</td>\n",
       "      <td>0.825337</td>\n",
       "      <td>254044000</td>\n",
       "    </tr>\n",
       "    <tr>\n",
       "      <th>844</th>\n",
       "      <td>2003-04-25</td>\n",
       "      <td>0.961429</td>\n",
       "      <td>0.970000</td>\n",
       "      <td>0.945000</td>\n",
       "      <td>0.953571</td>\n",
       "      <td>0.832194</td>\n",
       "      <td>51329600</td>\n",
       "    </tr>\n",
       "    <tr>\n",
       "      <th>...</th>\n",
       "      <td>...</td>\n",
       "      <td>...</td>\n",
       "      <td>...</td>\n",
       "      <td>...</td>\n",
       "      <td>...</td>\n",
       "      <td>...</td>\n",
       "      <td>...</td>\n",
       "    </tr>\n",
       "    <tr>\n",
       "      <th>4710</th>\n",
       "      <td>2018-08-31</td>\n",
       "      <td>226.509995</td>\n",
       "      <td>228.869995</td>\n",
       "      <td>226.000000</td>\n",
       "      <td>227.630005</td>\n",
       "      <td>224.151657</td>\n",
       "      <td>43340100</td>\n",
       "    </tr>\n",
       "    <tr>\n",
       "      <th>4733</th>\n",
       "      <td>2018-10-04</td>\n",
       "      <td>230.779999</td>\n",
       "      <td>232.350006</td>\n",
       "      <td>226.729996</td>\n",
       "      <td>227.990005</td>\n",
       "      <td>224.506180</td>\n",
       "      <td>32042000</td>\n",
       "    </tr>\n",
       "    <tr>\n",
       "      <th>4711</th>\n",
       "      <td>2018-09-04</td>\n",
       "      <td>228.410004</td>\n",
       "      <td>229.179993</td>\n",
       "      <td>226.630005</td>\n",
       "      <td>228.360001</td>\n",
       "      <td>224.870499</td>\n",
       "      <td>27390100</td>\n",
       "    </tr>\n",
       "    <tr>\n",
       "      <th>4731</th>\n",
       "      <td>2018-10-02</td>\n",
       "      <td>227.250000</td>\n",
       "      <td>230.000000</td>\n",
       "      <td>226.630005</td>\n",
       "      <td>229.279999</td>\n",
       "      <td>225.776459</td>\n",
       "      <td>24788200</td>\n",
       "    </tr>\n",
       "    <tr>\n",
       "      <th>4732</th>\n",
       "      <td>2018-10-03</td>\n",
       "      <td>230.050003</td>\n",
       "      <td>233.470001</td>\n",
       "      <td>229.779999</td>\n",
       "      <td>232.070007</td>\n",
       "      <td>228.523819</td>\n",
       "      <td>28654800</td>\n",
       "    </tr>\n",
       "  </tbody>\n",
       "</table>\n",
       "<p>4980 rows × 7 columns</p>\n",
       "</div>"
      ],
      "text/plain": [
       "            Date        Open        High         Low       Close   Adj Close  \\\n",
       "839   2003-04-17    0.942857    0.946429    0.908571    0.937143    0.817857   \n",
       "840   2003-04-21    0.937857    0.942143    0.927143    0.938571    0.819104   \n",
       "835   2003-04-11    1.003571    1.031429    0.923571    0.942857    0.822844   \n",
       "838   2003-04-16    0.927857    0.976429    0.922857    0.945714    0.825337   \n",
       "844   2003-04-25    0.961429    0.970000    0.945000    0.953571    0.832194   \n",
       "...          ...         ...         ...         ...         ...         ...   \n",
       "4710  2018-08-31  226.509995  228.869995  226.000000  227.630005  224.151657   \n",
       "4733  2018-10-04  230.779999  232.350006  226.729996  227.990005  224.506180   \n",
       "4711  2018-09-04  228.410004  229.179993  226.630005  228.360001  224.870499   \n",
       "4731  2018-10-02  227.250000  230.000000  226.630005  229.279999  225.776459   \n",
       "4732  2018-10-03  230.050003  233.470001  229.779999  232.070007  228.523819   \n",
       "\n",
       "         Volume  \n",
       "839   154064400  \n",
       "840    38080000  \n",
       "835   348177200  \n",
       "838   254044000  \n",
       "844    51329600  \n",
       "...         ...  \n",
       "4710   43340100  \n",
       "4733   32042000  \n",
       "4711   27390100  \n",
       "4731   24788200  \n",
       "4732   28654800  \n",
       "\n",
       "[4980 rows x 7 columns]"
      ]
     },
     "execution_count": 43,
     "metadata": {},
     "output_type": "execute_result"
    }
   ],
   "source": [
    "fd1"
   ]
  },
  {
   "cell_type": "code",
   "execution_count": null,
   "metadata": {},
   "outputs": [],
   "source": []
  },
  {
   "cell_type": "code",
   "execution_count": 44,
   "metadata": {},
   "outputs": [],
   "source": [
    "df1 = fd1"
   ]
  },
  {
   "cell_type": "code",
   "execution_count": 45,
   "metadata": {},
   "outputs": [],
   "source": [
    "df1.to_csv('ChangeData.csv')"
   ]
  },
  {
   "cell_type": "code",
   "execution_count": 47,
   "metadata": {},
   "outputs": [],
   "source": [
    "df1.to_csv('ChangeData1.csv', decimal=',', sep=';', index=False)"
   ]
  },
  {
   "cell_type": "code",
   "execution_count": null,
   "metadata": {},
   "outputs": [],
   "source": []
  },
  {
   "cell_type": "code",
   "execution_count": 51,
   "metadata": {},
   "outputs": [
    {
     "ename": "NameError",
     "evalue": "name 'ChangeData1' is not defined",
     "output_type": "error",
     "traceback": [
      "\u001b[0;31m---------------------------------------------------------------------------\u001b[0m",
      "\u001b[0;31mNameError\u001b[0m                                 Traceback (most recent call last)",
      "\u001b[0;32m<ipython-input-51-5d48b0d35c84>\u001b[0m in \u001b[0;36m<module>\u001b[0;34m\u001b[0m\n\u001b[0;32m----> 1\u001b[0;31m \u001b[0mChangeData1\u001b[0m\u001b[0;34m.\u001b[0m\u001b[0mcsv\u001b[0m\u001b[0;34m\u001b[0m\u001b[0;34m\u001b[0m\u001b[0m\n\u001b[0m",
      "\u001b[0;31mNameError\u001b[0m: name 'ChangeData1' is not defined"
     ]
    }
   ],
   "source": [
    "ChangeData1.csv"
   ]
  },
  {
   "cell_type": "code",
   "execution_count": 52,
   "metadata": {},
   "outputs": [],
   "source": [
    "import time"
   ]
  },
  {
   "cell_type": "code",
   "execution_count": 53,
   "metadata": {},
   "outputs": [],
   "source": [
    "start_time=time.clock()"
   ]
  },
  {
   "cell_type": "code",
   "execution_count": 54,
   "metadata": {},
   "outputs": [],
   "source": [
    "df['newCol'] = df['Volume'].cumsum()"
   ]
  },
  {
   "cell_type": "code",
   "execution_count": 55,
   "metadata": {},
   "outputs": [
    {
     "data": {
      "text/html": [
       "<div>\n",
       "<style scoped>\n",
       "    .dataframe tbody tr th:only-of-type {\n",
       "        vertical-align: middle;\n",
       "    }\n",
       "\n",
       "    .dataframe tbody tr th {\n",
       "        vertical-align: top;\n",
       "    }\n",
       "\n",
       "    .dataframe thead th {\n",
       "        text-align: right;\n",
       "    }\n",
       "</style>\n",
       "<table border=\"1\" class=\"dataframe\">\n",
       "  <thead>\n",
       "    <tr style=\"text-align: right;\">\n",
       "      <th></th>\n",
       "      <th>Date</th>\n",
       "      <th>Open</th>\n",
       "      <th>High</th>\n",
       "      <th>Low</th>\n",
       "      <th>Close</th>\n",
       "      <th>Adj Close</th>\n",
       "      <th>Volume</th>\n",
       "      <th>newCol</th>\n",
       "    </tr>\n",
       "  </thead>\n",
       "  <tbody>\n",
       "    <tr>\n",
       "      <th>0</th>\n",
       "      <td>1999-12-13</td>\n",
       "      <td>3.656808</td>\n",
       "      <td>3.660714</td>\n",
       "      <td>3.533482</td>\n",
       "      <td>3.535714</td>\n",
       "      <td>3.085665</td>\n",
       "      <td>132490400</td>\n",
       "      <td>132490400</td>\n",
       "    </tr>\n",
       "    <tr>\n",
       "      <th>1</th>\n",
       "      <td>1999-12-14</td>\n",
       "      <td>3.513393</td>\n",
       "      <td>3.562500</td>\n",
       "      <td>3.383929</td>\n",
       "      <td>3.388393</td>\n",
       "      <td>2.957095</td>\n",
       "      <td>108967600</td>\n",
       "      <td>241458000</td>\n",
       "    </tr>\n",
       "    <tr>\n",
       "      <th>2</th>\n",
       "      <td>1999-12-15</td>\n",
       "      <td>3.330357</td>\n",
       "      <td>3.473214</td>\n",
       "      <td>3.252232</td>\n",
       "      <td>3.464286</td>\n",
       "      <td>3.023328</td>\n",
       "      <td>155744400</td>\n",
       "      <td>397202400</td>\n",
       "    </tr>\n",
       "    <tr>\n",
       "      <th>3</th>\n",
       "      <td>1999-12-16</td>\n",
       "      <td>3.500000</td>\n",
       "      <td>3.513393</td>\n",
       "      <td>3.357143</td>\n",
       "      <td>3.511161</td>\n",
       "      <td>3.064236</td>\n",
       "      <td>115956400</td>\n",
       "      <td>513158800</td>\n",
       "    </tr>\n",
       "    <tr>\n",
       "      <th>4</th>\n",
       "      <td>1999-12-17</td>\n",
       "      <td>3.602679</td>\n",
       "      <td>3.642857</td>\n",
       "      <td>3.517857</td>\n",
       "      <td>3.571429</td>\n",
       "      <td>3.116833</td>\n",
       "      <td>123751600</td>\n",
       "      <td>636910400</td>\n",
       "    </tr>\n",
       "    <tr>\n",
       "      <th>...</th>\n",
       "      <td>...</td>\n",
       "      <td>...</td>\n",
       "      <td>...</td>\n",
       "      <td>...</td>\n",
       "      <td>...</td>\n",
       "      <td>...</td>\n",
       "      <td>...</td>\n",
       "      <td>...</td>\n",
       "    </tr>\n",
       "    <tr>\n",
       "      <th>4975</th>\n",
       "      <td>2019-09-23</td>\n",
       "      <td>218.949997</td>\n",
       "      <td>219.839996</td>\n",
       "      <td>217.649994</td>\n",
       "      <td>218.720001</td>\n",
       "      <td>218.720001</td>\n",
       "      <td>19165500</td>\n",
       "      <td>577692816100</td>\n",
       "    </tr>\n",
       "    <tr>\n",
       "      <th>4976</th>\n",
       "      <td>2019-09-24</td>\n",
       "      <td>221.029999</td>\n",
       "      <td>222.490005</td>\n",
       "      <td>217.190002</td>\n",
       "      <td>217.679993</td>\n",
       "      <td>217.679993</td>\n",
       "      <td>31190800</td>\n",
       "      <td>577724006900</td>\n",
       "    </tr>\n",
       "    <tr>\n",
       "      <th>4977</th>\n",
       "      <td>2019-09-25</td>\n",
       "      <td>218.550003</td>\n",
       "      <td>221.500000</td>\n",
       "      <td>217.139999</td>\n",
       "      <td>221.029999</td>\n",
       "      <td>221.029999</td>\n",
       "      <td>21903400</td>\n",
       "      <td>577745910300</td>\n",
       "    </tr>\n",
       "    <tr>\n",
       "      <th>4978</th>\n",
       "      <td>2019-09-26</td>\n",
       "      <td>220.000000</td>\n",
       "      <td>220.940002</td>\n",
       "      <td>218.830002</td>\n",
       "      <td>219.889999</td>\n",
       "      <td>219.889999</td>\n",
       "      <td>18833500</td>\n",
       "      <td>577764743800</td>\n",
       "    </tr>\n",
       "    <tr>\n",
       "      <th>4979</th>\n",
       "      <td>2019-09-27</td>\n",
       "      <td>220.539993</td>\n",
       "      <td>220.960007</td>\n",
       "      <td>217.279999</td>\n",
       "      <td>218.820007</td>\n",
       "      <td>218.820007</td>\n",
       "      <td>25352000</td>\n",
       "      <td>577790095800</td>\n",
       "    </tr>\n",
       "  </tbody>\n",
       "</table>\n",
       "<p>4980 rows × 8 columns</p>\n",
       "</div>"
      ],
      "text/plain": [
       "            Date        Open        High         Low       Close   Adj Close  \\\n",
       "0     1999-12-13    3.656808    3.660714    3.533482    3.535714    3.085665   \n",
       "1     1999-12-14    3.513393    3.562500    3.383929    3.388393    2.957095   \n",
       "2     1999-12-15    3.330357    3.473214    3.252232    3.464286    3.023328   \n",
       "3     1999-12-16    3.500000    3.513393    3.357143    3.511161    3.064236   \n",
       "4     1999-12-17    3.602679    3.642857    3.517857    3.571429    3.116833   \n",
       "...          ...         ...         ...         ...         ...         ...   \n",
       "4975  2019-09-23  218.949997  219.839996  217.649994  218.720001  218.720001   \n",
       "4976  2019-09-24  221.029999  222.490005  217.190002  217.679993  217.679993   \n",
       "4977  2019-09-25  218.550003  221.500000  217.139999  221.029999  221.029999   \n",
       "4978  2019-09-26  220.000000  220.940002  218.830002  219.889999  219.889999   \n",
       "4979  2019-09-27  220.539993  220.960007  217.279999  218.820007  218.820007   \n",
       "\n",
       "         Volume        newCol  \n",
       "0     132490400     132490400  \n",
       "1     108967600     241458000  \n",
       "2     155744400     397202400  \n",
       "3     115956400     513158800  \n",
       "4     123751600     636910400  \n",
       "...         ...           ...  \n",
       "4975   19165500  577692816100  \n",
       "4976   31190800  577724006900  \n",
       "4977   21903400  577745910300  \n",
       "4978   18833500  577764743800  \n",
       "4979   25352000  577790095800  \n",
       "\n",
       "[4980 rows x 8 columns]"
      ]
     },
     "execution_count": 55,
     "metadata": {},
     "output_type": "execute_result"
    }
   ],
   "source": [
    "df"
   ]
  },
  {
   "cell_type": "code",
   "execution_count": 56,
   "metadata": {},
   "outputs": [
    {
     "name": "stdout",
     "output_type": "stream",
     "text": [
      "time used in cumsum:  0.06125799999999959 seconds\n"
     ]
    }
   ],
   "source": [
    "print(\"time used in cumsum: \", time.clock() - start_time, \"seconds\")"
   ]
  },
  {
   "cell_type": "code",
   "execution_count": 57,
   "metadata": {},
   "outputs": [
    {
     "ename": "AttributeError",
     "evalue": "module 'numpy' has no attribute 'arrange'",
     "output_type": "error",
     "traceback": [
      "\u001b[0;31m---------------------------------------------------------------------------\u001b[0m",
      "\u001b[0;31mAttributeError\u001b[0m                            Traceback (most recent call last)",
      "\u001b[0;32m<ipython-input-57-9e355cbeaa68>\u001b[0m in \u001b[0;36m<module>\u001b[0;34m\u001b[0m\n\u001b[0;32m----> 1\u001b[0;31m \u001b[0ma\u001b[0m \u001b[0;34m=\u001b[0m \u001b[0mnp\u001b[0m\u001b[0;34m.\u001b[0m\u001b[0marrange\u001b[0m\u001b[0;34m(\u001b[0m\u001b[0;36m10\u001b[0m\u001b[0;34m)\u001b[0m\u001b[0;34m\u001b[0m\u001b[0;34m\u001b[0m\u001b[0m\n\u001b[0m",
      "\u001b[0;31mAttributeError\u001b[0m: module 'numpy' has no attribute 'arrange'"
     ]
    }
   ],
   "source": [
    "a = np.arrange(10)"
   ]
  },
  {
   "cell_type": "code",
   "execution_count": 58,
   "metadata": {},
   "outputs": [],
   "source": [
    "a = np.arange(10)"
   ]
  },
  {
   "cell_type": "code",
   "execution_count": 59,
   "metadata": {},
   "outputs": [
    {
     "name": "stdout",
     "output_type": "stream",
     "text": [
      "[0 1 2 3 4 5 6 7 8 9]\n"
     ]
    }
   ],
   "source": [
    "print(a)"
   ]
  },
  {
   "cell_type": "code",
   "execution_count": 60,
   "metadata": {},
   "outputs": [],
   "source": [
    "b = np.where(a<5, a, 10*a)"
   ]
  },
  {
   "cell_type": "code",
   "execution_count": 61,
   "metadata": {},
   "outputs": [
    {
     "data": {
      "text/plain": [
       "array([ 0,  1,  2,  3,  4, 50, 60, 70, 80, 90])"
      ]
     },
     "execution_count": 61,
     "metadata": {},
     "output_type": "execute_result"
    }
   ],
   "source": [
    "b"
   ]
  },
  {
   "cell_type": "code",
   "execution_count": 62,
   "metadata": {},
   "outputs": [
    {
     "name": "stdout",
     "output_type": "stream",
     "text": [
      "[ 0  1  2  3  4 50 60 70 80 90]\n"
     ]
    }
   ],
   "source": [
    "print(b)"
   ]
  },
  {
   "cell_type": "code",
   "execution_count": 63,
   "metadata": {},
   "outputs": [],
   "source": [
    "df['signal'] = np.where(df['Close'] > df['Open'], 1, 0)"
   ]
  },
  {
   "cell_type": "code",
   "execution_count": 64,
   "metadata": {},
   "outputs": [
    {
     "data": {
      "text/html": [
       "<div>\n",
       "<style scoped>\n",
       "    .dataframe tbody tr th:only-of-type {\n",
       "        vertical-align: middle;\n",
       "    }\n",
       "\n",
       "    .dataframe tbody tr th {\n",
       "        vertical-align: top;\n",
       "    }\n",
       "\n",
       "    .dataframe thead th {\n",
       "        text-align: right;\n",
       "    }\n",
       "</style>\n",
       "<table border=\"1\" class=\"dataframe\">\n",
       "  <thead>\n",
       "    <tr style=\"text-align: right;\">\n",
       "      <th></th>\n",
       "      <th>Date</th>\n",
       "      <th>Open</th>\n",
       "      <th>High</th>\n",
       "      <th>Low</th>\n",
       "      <th>Close</th>\n",
       "      <th>Adj Close</th>\n",
       "      <th>Volume</th>\n",
       "      <th>newCol</th>\n",
       "      <th>signal</th>\n",
       "    </tr>\n",
       "  </thead>\n",
       "  <tbody>\n",
       "    <tr>\n",
       "      <th>0</th>\n",
       "      <td>1999-12-13</td>\n",
       "      <td>3.656808</td>\n",
       "      <td>3.660714</td>\n",
       "      <td>3.533482</td>\n",
       "      <td>3.535714</td>\n",
       "      <td>3.085665</td>\n",
       "      <td>132490400</td>\n",
       "      <td>132490400</td>\n",
       "      <td>0</td>\n",
       "    </tr>\n",
       "    <tr>\n",
       "      <th>1</th>\n",
       "      <td>1999-12-14</td>\n",
       "      <td>3.513393</td>\n",
       "      <td>3.562500</td>\n",
       "      <td>3.383929</td>\n",
       "      <td>3.388393</td>\n",
       "      <td>2.957095</td>\n",
       "      <td>108967600</td>\n",
       "      <td>241458000</td>\n",
       "      <td>0</td>\n",
       "    </tr>\n",
       "    <tr>\n",
       "      <th>2</th>\n",
       "      <td>1999-12-15</td>\n",
       "      <td>3.330357</td>\n",
       "      <td>3.473214</td>\n",
       "      <td>3.252232</td>\n",
       "      <td>3.464286</td>\n",
       "      <td>3.023328</td>\n",
       "      <td>155744400</td>\n",
       "      <td>397202400</td>\n",
       "      <td>1</td>\n",
       "    </tr>\n",
       "    <tr>\n",
       "      <th>3</th>\n",
       "      <td>1999-12-16</td>\n",
       "      <td>3.500000</td>\n",
       "      <td>3.513393</td>\n",
       "      <td>3.357143</td>\n",
       "      <td>3.511161</td>\n",
       "      <td>3.064236</td>\n",
       "      <td>115956400</td>\n",
       "      <td>513158800</td>\n",
       "      <td>1</td>\n",
       "    </tr>\n",
       "    <tr>\n",
       "      <th>4</th>\n",
       "      <td>1999-12-17</td>\n",
       "      <td>3.602679</td>\n",
       "      <td>3.642857</td>\n",
       "      <td>3.517857</td>\n",
       "      <td>3.571429</td>\n",
       "      <td>3.116833</td>\n",
       "      <td>123751600</td>\n",
       "      <td>636910400</td>\n",
       "      <td>0</td>\n",
       "    </tr>\n",
       "    <tr>\n",
       "      <th>...</th>\n",
       "      <td>...</td>\n",
       "      <td>...</td>\n",
       "      <td>...</td>\n",
       "      <td>...</td>\n",
       "      <td>...</td>\n",
       "      <td>...</td>\n",
       "      <td>...</td>\n",
       "      <td>...</td>\n",
       "      <td>...</td>\n",
       "    </tr>\n",
       "    <tr>\n",
       "      <th>4975</th>\n",
       "      <td>2019-09-23</td>\n",
       "      <td>218.949997</td>\n",
       "      <td>219.839996</td>\n",
       "      <td>217.649994</td>\n",
       "      <td>218.720001</td>\n",
       "      <td>218.720001</td>\n",
       "      <td>19165500</td>\n",
       "      <td>577692816100</td>\n",
       "      <td>0</td>\n",
       "    </tr>\n",
       "    <tr>\n",
       "      <th>4976</th>\n",
       "      <td>2019-09-24</td>\n",
       "      <td>221.029999</td>\n",
       "      <td>222.490005</td>\n",
       "      <td>217.190002</td>\n",
       "      <td>217.679993</td>\n",
       "      <td>217.679993</td>\n",
       "      <td>31190800</td>\n",
       "      <td>577724006900</td>\n",
       "      <td>0</td>\n",
       "    </tr>\n",
       "    <tr>\n",
       "      <th>4977</th>\n",
       "      <td>2019-09-25</td>\n",
       "      <td>218.550003</td>\n",
       "      <td>221.500000</td>\n",
       "      <td>217.139999</td>\n",
       "      <td>221.029999</td>\n",
       "      <td>221.029999</td>\n",
       "      <td>21903400</td>\n",
       "      <td>577745910300</td>\n",
       "      <td>1</td>\n",
       "    </tr>\n",
       "    <tr>\n",
       "      <th>4978</th>\n",
       "      <td>2019-09-26</td>\n",
       "      <td>220.000000</td>\n",
       "      <td>220.940002</td>\n",
       "      <td>218.830002</td>\n",
       "      <td>219.889999</td>\n",
       "      <td>219.889999</td>\n",
       "      <td>18833500</td>\n",
       "      <td>577764743800</td>\n",
       "      <td>0</td>\n",
       "    </tr>\n",
       "    <tr>\n",
       "      <th>4979</th>\n",
       "      <td>2019-09-27</td>\n",
       "      <td>220.539993</td>\n",
       "      <td>220.960007</td>\n",
       "      <td>217.279999</td>\n",
       "      <td>218.820007</td>\n",
       "      <td>218.820007</td>\n",
       "      <td>25352000</td>\n",
       "      <td>577790095800</td>\n",
       "      <td>0</td>\n",
       "    </tr>\n",
       "  </tbody>\n",
       "</table>\n",
       "<p>4980 rows × 9 columns</p>\n",
       "</div>"
      ],
      "text/plain": [
       "            Date        Open        High         Low       Close   Adj Close  \\\n",
       "0     1999-12-13    3.656808    3.660714    3.533482    3.535714    3.085665   \n",
       "1     1999-12-14    3.513393    3.562500    3.383929    3.388393    2.957095   \n",
       "2     1999-12-15    3.330357    3.473214    3.252232    3.464286    3.023328   \n",
       "3     1999-12-16    3.500000    3.513393    3.357143    3.511161    3.064236   \n",
       "4     1999-12-17    3.602679    3.642857    3.517857    3.571429    3.116833   \n",
       "...          ...         ...         ...         ...         ...         ...   \n",
       "4975  2019-09-23  218.949997  219.839996  217.649994  218.720001  218.720001   \n",
       "4976  2019-09-24  221.029999  222.490005  217.190002  217.679993  217.679993   \n",
       "4977  2019-09-25  218.550003  221.500000  217.139999  221.029999  221.029999   \n",
       "4978  2019-09-26  220.000000  220.940002  218.830002  219.889999  219.889999   \n",
       "4979  2019-09-27  220.539993  220.960007  217.279999  218.820007  218.820007   \n",
       "\n",
       "         Volume        newCol  signal  \n",
       "0     132490400     132490400       0  \n",
       "1     108967600     241458000       0  \n",
       "2     155744400     397202400       1  \n",
       "3     115956400     513158800       1  \n",
       "4     123751600     636910400       0  \n",
       "...         ...           ...     ...  \n",
       "4975   19165500  577692816100       0  \n",
       "4976   31190800  577724006900       0  \n",
       "4977   21903400  577745910300       1  \n",
       "4978   18833500  577764743800       0  \n",
       "4979   25352000  577790095800       0  \n",
       "\n",
       "[4980 rows x 9 columns]"
      ]
     },
     "execution_count": 64,
     "metadata": {},
     "output_type": "execute_result"
    }
   ],
   "source": [
    "df"
   ]
  },
  {
   "cell_type": "code",
   "execution_count": 66,
   "metadata": {},
   "outputs": [
    {
     "ename": "NameError",
     "evalue": "name 'plt' is not defined",
     "output_type": "error",
     "traceback": [
      "\u001b[0;31m---------------------------------------------------------------------------\u001b[0m",
      "\u001b[0;31mNameError\u001b[0m                                 Traceback (most recent call last)",
      "\u001b[0;32m<ipython-input-66-cd44ba440faf>\u001b[0m in \u001b[0;36m<module>\u001b[0;34m\u001b[0m\n\u001b[0;32m----> 1\u001b[0;31m \u001b[0mplt\u001b[0m\u001b[0;34m.\u001b[0m\u001b[0mplot\u001b[0m\u001b[0;34m(\u001b[0m\u001b[0;34m[\u001b[0m\u001b[0;36m1\u001b[0m\u001b[0;34m,\u001b[0m \u001b[0;36m2\u001b[0m\u001b[0;34m,\u001b[0m \u001b[0;36m3\u001b[0m\u001b[0;34m]\u001b[0m\u001b[0;34m)\u001b[0m\u001b[0;34m\u001b[0m\u001b[0;34m\u001b[0m\u001b[0m\n\u001b[0m",
      "\u001b[0;31mNameError\u001b[0m: name 'plt' is not defined"
     ]
    }
   ],
   "source": [
    "plt.plot([1, 2, 3])"
   ]
  },
  {
   "cell_type": "code",
   "execution_count": 70,
   "metadata": {},
   "outputs": [
    {
     "ename": "ModuleNotFoundError",
     "evalue": "No module named 'matplotlib.plot'",
     "output_type": "error",
     "traceback": [
      "\u001b[0;31m---------------------------------------------------------------------------\u001b[0m",
      "\u001b[0;31mModuleNotFoundError\u001b[0m                       Traceback (most recent call last)",
      "\u001b[0;32m<ipython-input-70-428513f2c9d1>\u001b[0m in \u001b[0;36m<module>\u001b[0;34m\u001b[0m\n\u001b[0;32m----> 1\u001b[0;31m \u001b[0;32mimport\u001b[0m \u001b[0mmatplotlib\u001b[0m\u001b[0;34m.\u001b[0m\u001b[0mplot\u001b[0m \u001b[0;32mas\u001b[0m \u001b[0mplt\u001b[0m\u001b[0;34m\u001b[0m\u001b[0;34m\u001b[0m\u001b[0m\n\u001b[0m",
      "\u001b[0;31mModuleNotFoundError\u001b[0m: No module named 'matplotlib.plot'"
     ]
    }
   ],
   "source": [
    "import matplotlib.plot as plt"
   ]
  },
  {
   "cell_type": "code",
   "execution_count": null,
   "metadata": {},
   "outputs": [],
   "source": []
  },
  {
   "cell_type": "code",
   "execution_count": 69,
   "metadata": {},
   "outputs": [
    {
     "ename": "NameError",
     "evalue": "name 'plt' is not defined",
     "output_type": "error",
     "traceback": [
      "\u001b[0;31m---------------------------------------------------------------------------\u001b[0m",
      "\u001b[0;31mNameError\u001b[0m                                 Traceback (most recent call last)",
      "\u001b[0;32m<ipython-input-69-cd44ba440faf>\u001b[0m in \u001b[0;36m<module>\u001b[0;34m\u001b[0m\n\u001b[0;32m----> 1\u001b[0;31m \u001b[0mplt\u001b[0m\u001b[0;34m.\u001b[0m\u001b[0mplot\u001b[0m\u001b[0;34m(\u001b[0m\u001b[0;34m[\u001b[0m\u001b[0;36m1\u001b[0m\u001b[0;34m,\u001b[0m \u001b[0;36m2\u001b[0m\u001b[0;34m,\u001b[0m \u001b[0;36m3\u001b[0m\u001b[0;34m]\u001b[0m\u001b[0;34m)\u001b[0m\u001b[0;34m\u001b[0m\u001b[0;34m\u001b[0m\u001b[0m\n\u001b[0m",
      "\u001b[0;31mNameError\u001b[0m: name 'plt' is not defined"
     ]
    }
   ],
   "source": [
    "plt.plot([1, 2, 3])"
   ]
  },
  {
   "cell_type": "code",
   "execution_count": null,
   "metadata": {},
   "outputs": [],
   "source": []
  },
  {
   "cell_type": "code",
   "execution_count": 71,
   "metadata": {},
   "outputs": [],
   "source": [
    "import matplotlib.pyplot as plt\n"
   ]
  },
  {
   "cell_type": "code",
   "execution_count": 72,
   "metadata": {},
   "outputs": [
    {
     "data": {
      "text/plain": [
       "[<matplotlib.lines.Line2D at 0x7f916f49efd0>]"
      ]
     },
     "execution_count": 72,
     "metadata": {},
     "output_type": "execute_result"
    },
    {
     "data": {
      "image/png": "[encoded data removed]",
      "text/plain": [
       "<Figure size 432x288 with 1 Axes>"
      ]
     },
     "metadata": {
      "needs_background": "light"
     },
     "output_type": "display_data"
    }
   ],
   "source": [
    "plt.plot([1, 2, 3])"
   ]
  },
  {
   "cell_type": "code",
   "execution_count": 73,
   "metadata": {},
   "outputs": [
    {
     "data": {
      "text/plain": [
       "Text(0, 0.5, 'some numbers')"
      ]
     },
     "execution_count": 73,
     "metadata": {},
     "output_type": "execute_result"
    },
    {
     "data": {
      "image/png": "[encoded data removed]",
      "text/plain": [
       "<Figure size 432x288 with 1 Axes>"
      ]
     },
     "metadata": {
      "needs_background": "light"
     },
     "output_type": "display_data"
    }
   ],
   "source": [
    "plt.ylabel('some numbers')"
   ]
  },
  {
   "cell_type": "code",
   "execution_count": 74,
   "metadata": {},
   "outputs": [],
   "source": [
    "plt.show()"
   ]
  },
  {
   "cell_type": "code",
   "execution_count": 75,
   "metadata": {},
   "outputs": [
    {
     "data": {
      "text/plain": [
       "[<matplotlib.lines.Line2D at 0x7f916ed9f358>]"
      ]
     },
     "execution_count": 75,
     "metadata": {},
     "output_type": "execute_result"
    },
    {
     "data": {
      "image/png": "[encoded data removed]",
      "text/plain": [
       "<Figure size 432x288 with 1 Axes>"
      ]
     },
     "metadata": {
      "needs_background": "light"
     },
     "output_type": "display_data"
    }
   ],
   "source": [
    "plt.axis([0,6,0,20])\n",
    "plt.plot([1,2,3,4], [1,4,9,16], 'ro')"
   ]
  },
  {
   "cell_type": "code",
   "execution_count": 76,
   "metadata": {},
   "outputs": [],
   "source": [
    "plt.show()"
   ]
  },
  {
   "cell_type": "code",
   "execution_count": 79,
   "metadata": {},
   "outputs": [
    {
     "ename": "SyntaxError",
     "evalue": "invalid syntax (<ipython-input-79-4cf4f10edf52>, line 1)",
     "output_type": "error",
     "traceback": [
      "\u001b[0;36m  File \u001b[0;32m\"<ipython-input-79-4cf4f10edf52>\"\u001b[0;36m, line \u001b[0;32m1\u001b[0m\n\u001b[0;31m    import\u001b[0m\n\u001b[0m           ^\u001b[0m\n\u001b[0;31mSyntaxError\u001b[0m\u001b[0;31m:\u001b[0m invalid syntax\n"
     ]
    }
   ],
   "source": [
    "import "
   ]
  },
  {
   "cell_type": "code",
   "execution_count": null,
   "metadata": {},
   "outputs": [],
   "source": []
  },
  {
   "cell_type": "code",
   "execution_count": null,
   "metadata": {},
   "outputs": [],
   "source": []
  },
  {
   "cell_type": "code",
   "execution_count": null,
   "metadata": {},
   "outputs": [],
   "source": []
  },
  {
   "cell_type": "code",
   "execution_count": null,
   "metadata": {},
   "outputs": [],
   "source": []
  }
 ],
 "metadata": {
  "kernelspec": {
   "display_name": "Python 3",
   "language": "python",
   "name": "python3"
  },
  "language_info": {
   "codemirror_mode": {
    "name": "ipython",
    "version": 3
   },
   "file_extension": ".py",
   "mimetype": "text/x-python",
   "name": "python",
   "nbconvert_exporter": "python",
   "pygments_lexer": "ipython3",
   "version": "3.6.8"
  }
 },
 "nbformat": 4,
 "nbformat_minor": 4
}
